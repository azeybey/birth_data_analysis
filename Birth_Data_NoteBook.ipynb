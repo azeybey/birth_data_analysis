{
 "cells": [
  {
   "cell_type": "markdown",
   "id": "45ee7de9",
   "metadata": {},
   "source": []
  },
  {
   "cell_type": "code",
   "execution_count": 1,
   "id": "30cdd49a",
   "metadata": {},
   "outputs": [],
   "source": [
    "from pyspark.sql import SparkSession\n",
    "\n",
    "spark = SparkSession.builder \\\n",
    "    .appName(\"Birth Data Analysis\") \\\n",
    "    .getOrCreate()\n",
    "\n",
    "table_path_1718 = \"hdfs:///user/abdur_zeybey/data_table_1718\"\n",
    "table_path_1920 = \"hdfs:///user/abdur_zeybey/data_table_1920\""
   ]
  },
  {
   "cell_type": "markdown",
   "id": "0bb6837d",
   "metadata": {},
   "source": [
    " - Reading CSV data, and Save as Table with parquet format. Need once."
   ]
  },
  {
   "cell_type": "code",
   "execution_count": 22,
   "id": "28f4e615",
   "metadata": {},
   "outputs": [
    {
     "name": "stderr",
     "output_type": "stream",
     "text": [
      "                                                                                \r"
     ]
    }
   ],
   "source": [
    "data = spark.read.csv(\n",
    "    \"birth_2017.csv\",\n",
    "    header=True,\n",
    "    inferSchema=True,\n",
    ")\n",
    "\n",
    "data.write \\\n",
    "    .mode(\"overwrite\") \\\n",
    "    .parquet(table_path_1718)\n",
    "\n",
    "data = spark.read.csv(\n",
    "    \"birth_2018.csv\",\n",
    "    header=True,\n",
    "    inferSchema=True,\n",
    ")\n",
    "\n",
    "data.write \\\n",
    "    .mode(\"append\") \\\n",
    "    .parquet(table_path_1718)\n",
    "\n",
    "data = spark.read.csv(\n",
    "    \"birth_2019.csv\",\n",
    "    header=True,\n",
    "    inferSchema=True,\n",
    ")\n",
    "\n",
    "data.write \\\n",
    "    .mode(\"overwrite\") \\\n",
    "    .parquet(table_path_1920)\n",
    "\n",
    "data = spark.read.csv(\n",
    "    \"birth_2020.csv\",\n",
    "    header=True,\n",
    "    inferSchema=True,\n",
    ")\n",
    "\n",
    "data.write \\\n",
    "    .mode(\"append\") \\\n",
    "    .parquet(table_path_1920)\n",
    "\n"
   ]
  },
  {
   "cell_type": "code",
   "execution_count": 2,
   "id": "9c63c3a5",
   "metadata": {},
   "outputs": [],
   "source": [
    "ols_cols = [\n",
    "            \"dob_yy\",\n",
    "            \"dob_mm\",\n",
    "            \"dob_tt\",\n",
    "            \"dob_wk\",\n",
    "            \"mager\",\n",
    "            \"meduc\",\n",
    "            \"fagecomb\",\n",
    "            \"feduc\",\n",
    "            \"cig_0\",\n",
    "            \"rf_pdiab\",\n",
    "            \"rf_phype\",\n",
    "            \"rf_inftr\",\n",
    "            \"rf_fedrg\",\n",
    "            \"dplural\",\n",
    "            \"sex\",\n",
    "            \"dbwt\",\n",
    "        ]\n",
    "\n",
    "new_cols = [\n",
    "            \"DOB_YY\",\n",
    "            \"DOB_MM\",\n",
    "            \"DOB_TT\",\n",
    "            \"DOB_WK\",\n",
    "            \"MAGER\", #Mother's Age\n",
    "            \"MEDUC\", #Mother’s Education\n",
    "            \"FAGECOMB\", #Father’s Age\n",
    "            \"FEDUC\",  #Father’s Education\n",
    "            \"CIG_0\", #Cigarettes Before Pregnancy\n",
    "            \"RF_PDIAB\", #Pre-pregnancy Diabetes\n",
    "            \"RF_PHYPE\", #Pre-pregnancy Hypertension\n",
    "            \"RF_INFTR\", #Infertility Treatment Used\n",
    "            \"RF_FEDRG\", #Fertility Enhancing Drugs\n",
    "            \"DPLURAL\", #Plurality Recode\n",
    "            \"SEX\", #Sex of Infant\n",
    "            \"DBWT\", #Birth Weight – Detail in Grams\n",
    "        ]"
   ]
  },
  {
   "cell_type": "code",
   "execution_count": 3,
   "id": "f7b0595b",
   "metadata": {},
   "outputs": [
    {
     "name": "stderr",
     "output_type": "stream",
     "text": [
      "23/04/14 22:50:23 WARN org.apache.spark.sql.catalyst.util.package: Truncated the string representation of a plan since it was too large. This behavior can be adjusted by setting 'spark.sql.debug.maxToStringFields'.\n"
     ]
    }
   ],
   "source": [
    "data_table_1718 = spark.read.parquet(table_path_1718).select(ols_cols)\n",
    "data_table_1920 = spark.read.parquet(table_path_1920).select(new_cols)\n",
    "\n",
    "for old_col, new_col in zip(ols_cols, new_cols):\n",
    "    data_table_1718 = data_table_1718.withColumnRenamed(old_col, new_col)\n",
    "\n",
    "data_table = data_table_1718.union(data_table_1920)\n",
    "\n",
    "data_table.createOrReplaceTempView(\"data_table\")"
   ]
  },
  {
   "cell_type": "code",
   "execution_count": 4,
   "id": "f7286724",
   "metadata": {},
   "outputs": [
    {
     "name": "stderr",
     "output_type": "stream",
     "text": [
      "[Stage 2:====================================>                      (5 + 1) / 8]\r"
     ]
    },
    {
     "name": "stdout",
     "output_type": "stream",
     "text": [
      "+------+------+------+------+-----+-----+--------+-----+-----+--------+--------+--------+--------+-------+---+----+\n",
      "|DOB_YY|DOB_MM|DOB_TT|DOB_WK|MAGER|MEDUC|FAGECOMB|FEDUC|CIG_0|RF_PDIAB|RF_PHYPE|RF_INFTR|RF_FEDRG|DPLURAL|SEX|DBWT|\n",
      "+------+------+------+------+-----+-----+--------+-----+-----+--------+--------+--------+--------+-------+---+----+\n",
      "|  2018|     3|  1506|     5|   39|    1|      47|    1|    0|       N|       N|       N|       X|      1|  M|4598|\n",
      "+------+------+------+------+-----+-----+--------+-----+-----+--------+--------+--------+--------+-------+---+----+\n",
      "\n"
     ]
    },
    {
     "name": "stderr",
     "output_type": "stream",
     "text": [
      "                                                                                \r"
     ]
    }
   ],
   "source": [
    "result = spark.sql(\"SELECT * FROM data_table LIMIT 1\")\n",
    "result.show()"
   ]
  },
  {
   "cell_type": "code",
   "execution_count": 70,
   "id": "aa3e5d87",
   "metadata": {},
   "outputs": [
    {
     "name": "stderr",
     "output_type": "stream",
     "text": [
      "[Stage 140:=================================================>       (7 + 0) / 8]\r"
     ]
    },
    {
     "name": "stdout",
     "output_type": "stream",
     "text": [
      "+--------+\n",
      "|count(1)|\n",
      "+--------+\n",
      "|15043753|\n",
      "+--------+\n",
      "\n"
     ]
    },
    {
     "name": "stderr",
     "output_type": "stream",
     "text": [
      "                                                                                \r"
     ]
    }
   ],
   "source": [
    "result = spark.sql(\"SELECT count(*) FROM data_table\")\n",
    "result.show()"
   ]
  },
  {
   "cell_type": "code",
   "execution_count": 60,
   "id": "8425b2f2",
   "metadata": {},
   "outputs": [
    {
     "name": "stderr",
     "output_type": "stream",
     "text": [
      "[Stage 128:=================================================>       (7 + 0) / 8]\r"
     ]
    },
    {
     "name": "stdout",
     "output_type": "stream",
     "text": [
      "+-----+--------+\n",
      "|CIG_0|count(1)|\n",
      "+-----+--------+\n",
      "|   31|      40|\n",
      "|   85|      10|\n",
      "|   65|      10|\n",
      "|   28|      82|\n",
      "|   76|       2|\n",
      "|   27|      73|\n",
      "|   26|     117|\n",
      "|   44|      12|\n",
      "|   12|   12005|\n",
      "|   22|     250|\n",
      "|   47|       3|\n",
      "|    1|   37174|\n",
      "|   13|    1175|\n",
      "|    6|   36616|\n",
      "|   16|     708|\n",
      "|    3|   60067|\n",
      "|   20|  357024|\n",
      "|   40|   36395|\n",
      "|   96|       2|\n",
      "|   48|      51|\n",
      "+-----+--------+\n",
      "only showing top 20 rows\n",
      "\n"
     ]
    },
    {
     "name": "stderr",
     "output_type": "stream",
     "text": [
      "                                                                                \r"
     ]
    }
   ],
   "source": [
    "result = spark.sql(\"SELECT CIG_0, count(*) FROM data_table GROUP BY CIG_0\")\n",
    "result.show()"
   ]
  },
  {
   "cell_type": "code",
   "execution_count": 5,
   "id": "8738ead9",
   "metadata": {},
   "outputs": [
    {
     "name": "stderr",
     "output_type": "stream",
     "text": [
      "[Stage 7:>                                                          (0 + 1) / 1]\r"
     ]
    },
    {
     "name": "stdout",
     "output_type": "stream",
     "text": [
      "+-------+-----------------+\n",
      "|summary|             DBWT|\n",
      "+-------+-----------------+\n",
      "|  count|         15043696|\n",
      "|   mean|3264.251856591625|\n",
      "| stddev|620.8752988930911|\n",
      "|    min|              227|\n",
      "|    25%|             2960|\n",
      "|    50%|             3300|\n",
      "|    75%|             3629|\n",
      "|    max|             9999|\n",
      "+-------+-----------------+\n",
      "\n"
     ]
    },
    {
     "name": "stderr",
     "output_type": "stream",
     "text": [
      "                                                                                \r"
     ]
    }
   ],
   "source": [
    "birth_weight_stats = data_table.select(\"DBWT\").summary()\n",
    "birth_weight_stats.show()"
   ]
  },
  {
   "cell_type": "code",
   "execution_count": 6,
   "id": "79d1720a",
   "metadata": {},
   "outputs": [
    {
     "name": "stderr",
     "output_type": "stream",
     "text": [
      "[Stage 10:===================================================>      (8 + 1) / 9]\r"
     ]
    },
    {
     "name": "stdout",
     "output_type": "stream",
     "text": [
      "+-----+------------------+\n",
      "|MAGER|  AVG_BIRTH_WEIGHT|\n",
      "+-----+------------------+\n",
      "|   12|2991.2928870292885|\n",
      "|   13| 3014.312661498708|\n",
      "|   14| 3071.156899810964|\n",
      "|   15| 3099.763986013986|\n",
      "|   16| 3122.331346982123|\n",
      "|   17|3132.6918455356267|\n",
      "|   18| 3143.793142312638|\n",
      "|   19|3163.9167867841147|\n",
      "|   20|3182.7157530826084|\n",
      "|   21|3198.5838051191304|\n",
      "|   22|3217.0949763288386|\n",
      "|   23|3231.4137766923413|\n",
      "|   24|3243.9156310837816|\n",
      "|   25| 3256.493322108593|\n",
      "|   26| 3266.149936453677|\n",
      "|   27|3273.7471977600353|\n",
      "|   28|3285.1547281721905|\n",
      "|   29|3290.7004716559677|\n",
      "|   30| 3294.353377484834|\n",
      "|   31| 3300.308895296542|\n",
      "+-----+------------------+\n",
      "only showing top 20 rows\n",
      "\n"
     ]
    },
    {
     "name": "stderr",
     "output_type": "stream",
     "text": [
      "                                                                                \r"
     ]
    }
   ],
   "source": [
    "from pyspark.sql.functions import mean\n",
    "from pyspark.sql.functions import col\n",
    "\n",
    "\n",
    "avg_birth_weight_by_age = data_table.groupBy(\"MAGER\").agg(mean(col(\"DBWT\")).alias(\"AVG_BIRTH_WEIGHT\"))\n",
    "avg_birth_weight_by_age = avg_birth_weight_by_age.sort(\"MAGER\")\n",
    "avg_birth_weight_by_age.show()"
   ]
  },
  {
   "cell_type": "code",
   "execution_count": 7,
   "id": "ed36879c",
   "metadata": {},
   "outputs": [
    {
     "name": "stderr",
     "output_type": "stream",
     "text": [
      "                                                                                \r"
     ]
    },
    {
     "data": {
      "image/png": "[encoded data removed]",
      "text/plain": [
       "<Figure size 1200x600 with 1 Axes>"
      ]
     },
     "metadata": {},
     "output_type": "display_data"
    }
   ],
   "source": [
    "import pandas as pd\n",
    "import matplotlib.pyplot as plt\n",
    "import seaborn as sns\n",
    "\n",
    "\n",
    "avg_birth_weight_by_age_pd = avg_birth_weight_by_age.toPandas()\n",
    "\n",
    "sns.set_style(\"whitegrid\")\n",
    "\n",
    "plt.figure(figsize=(12, 6))\n",
    "sns.lineplot(data=avg_birth_weight_by_age_pd, x=\"MAGER\", y=\"AVG_BIRTH_WEIGHT\")\n",
    "plt.title(\"Relationship between Mother's Age and Average Birth Weight\")\n",
    "plt.xlabel(\"Mother's Age\")\n",
    "plt.ylabel(\"Average Birth Weight (grams)\")\n",
    "plt.show()"
   ]
  },
  {
   "cell_type": "code",
   "execution_count": null,
   "id": "8fcf1ea1",
   "metadata": {},
   "outputs": [],
   "source": []
  }
 ],
 "metadata": {
  "kernelspec": {
   "display_name": "PySpark",
   "language": "python",
   "name": "pyspark"
  },
  "language_info": {
   "codemirror_mode": {
    "name": "ipython",
    "version": 3
   },
   "file_extension": ".py",
   "mimetype": "text/x-python",
   "name": "python",
   "nbconvert_exporter": "python",
   "pygments_lexer": "ipython3",
   "version": "3.8.15"
  }
 },
 "nbformat": 4,
 "nbformat_minor": 5
}
